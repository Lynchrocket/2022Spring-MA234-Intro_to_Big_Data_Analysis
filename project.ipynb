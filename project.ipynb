{
 "cells": [
  {
   "cell_type": "markdown",
   "metadata": {},
   "source": [
    "### 一、数据"
   ]
  },
  {
   "cell_type": "markdown",
   "metadata": {},
   "source": [
    "数据主要包括2010年1月1日至2014年12月31日间北京pm2.5指数以及相关天气指数数据。在预处理中需要每7天抽一个数据作为验证集，其余作为测试集。"
   ]
  },
  {
   "cell_type": "markdown",
   "metadata": {},
   "source": [
    "### 二、数据预处理"
   ]
  },
  {
   "cell_type": "markdown",
   "metadata": {},
   "source": [
    "将所有*pm2.5*列含有缺失值的数据都删除，将*cbwd*列数据独热码，并每7天抽一个数据作为验证集，其余作为测试集。"
   ]
  },
  {
   "cell_type": "code",
   "execution_count": 9,
   "metadata": {},
   "outputs": [],
   "source": [
    "# import the packages\n",
    "import numpy as np\n",
    "import pandas as pd\n",
    "\n",
    "import matplotlib.pyplot as plt\n",
    "import seaborn as sns\n",
    "\n",
    "from sklearn.metrics import mean_squared_error, f1_score"
   ]
  },
  {
   "cell_type": "code",
   "execution_count": 10,
   "metadata": {},
   "outputs": [],
   "source": [
    "# data preprocessing\n",
    "# read in data \n",
    "PRSA_df = pd.read_csv('./data/PRSA_data.csv')\n",
    "\n",
    "# one-hot coding on cbwd\n",
    "PRSA_df = pd.get_dummies(data=PRSA_df,columns=['cbwd'])\n",
    "\n",
    "# date\n",
    "PRSA_df['date'] = pd.to_datetime(PRSA_df[['year','month','day']])\n",
    "\n",
    "# season\n",
    "def season_divide(x):\n",
    "    if x in range(3,6):\n",
    "        return 'Spring'\n",
    "    elif x in range(6,9):\n",
    "        return 'Summer'\n",
    "    elif x in range(9,12):\n",
    "        return 'Autumn'\n",
    "    else:\n",
    "        return 'Winter'\n",
    "\n",
    "PRSA_df['season'] = PRSA_df['month'].apply(season_divide)\n",
    "\n",
    "# delete the nan statistics\n",
    "no_nan_df = PRSA_df.drop(index=PRSA_df[PRSA_df['pm2.5'].isnull()].index).reset_index(drop=True)\n",
    "\n",
    "# grade on pm2.5\n",
    "no_nan_df['grade'] = no_nan_df['pm2.5'].apply(lambda x: 'low' if x<=35 else ('mid' if x<=150 else 'high'))"
   ]
  },
  {
   "cell_type": "markdown",
   "metadata": {},
   "source": [
    "提取训练数据和测试数据"
   ]
  },
  {
   "cell_type": "code",
   "execution_count": 11,
   "metadata": {},
   "outputs": [],
   "source": [
    "# get the train set and test set\n",
    "yy = 2010\n",
    "mm = 1\n",
    "dd = 7\n",
    "day_of_month = [31, 28, 31, 30, 31, 30, 31, 31, 30, 31, 30, 31]\n",
    "test_df = pd.DataFrame()\n",
    "while yy <= 2014:\n",
    "    test_df = test_df.append(\n",
    "        no_nan_df[(no_nan_df['year'] == yy) & (no_nan_df['month'] == mm) & (no_nan_df['day'] == dd)]\n",
    "    )\n",
    "    dd += 7\n",
    "    if dd > day_of_month[mm - 1]:\n",
    "        if yy == 2012 and mm == 2:\n",
    "            dd -= 29\n",
    "        dd -= day_of_month[mm - 1]\n",
    "        mm += 1\n",
    "    if mm > 12:\n",
    "        mm -= 12\n",
    "        yy += 1\n",
    "\n",
    "train_df = no_nan_df.append(test_df).append(test_df)\n",
    "train_df = train_df.drop_duplicates(keep=False)\n",
    "\n",
    "X_train, X_test = train_df.iloc[:, 6:16], test_df.iloc[:, 6:16]\n",
    "y_train, y_test = train_df.iloc[:, 5], test_df.iloc[:, 5]"
   ]
  },
  {
   "cell_type": "markdown",
   "metadata": {},
   "source": [
    "### 三、模型训练和预测"
   ]
  },
  {
   "cell_type": "markdown",
   "metadata": {},
   "source": [
    "三种简单的线性回归模型"
   ]
  },
  {
   "cell_type": "code",
   "execution_count": 12,
   "metadata": {},
   "outputs": [],
   "source": [
    "from sklearn.linear_model import LinearRegression\n",
    "from sklearn.linear_model import Lasso\n",
    "from sklearn.linear_model import Ridge"
   ]
  },
  {
   "cell_type": "code",
   "execution_count": 13,
   "metadata": {},
   "outputs": [],
   "source": [
    "# Regression model training and test\n",
    "# linear regression\n",
    "lr = LinearRegression().fit(X_train, y_train)\n",
    "y_pred_lr = lr.predict(X_test)\n",
    "r2_lr = lr.score(X_test, y_test)\n",
    "mse_lr = mean_squared_error(y_true=y_test, y_pred=y_pred_lr)\n",
    "\n",
    "# ridge regression\n",
    "rr = Ridge().fit(X_train, y_train)\n",
    "y_pred_rr = rr.predict(X_test)\n",
    "r2_rr = rr.score(X_test, y_test)\n",
    "mse_rr = mean_squared_error(y_true=y_test, y_pred=y_pred_rr)\n",
    "\n",
    "# lasso regression\n",
    "las = Lasso().fit(X_train, y_train)\n",
    "y_pred_las = las.predict(X_test)\n",
    "r2_las = las.score(X_test, y_test)\n",
    "mse_las = mean_squared_error(y_true=y_test, y_pred=y_pred_las)"
   ]
  },
  {
   "cell_type": "markdown",
   "metadata": {},
   "source": [
    "打印出三种模型的各种分数。可以看出，这三种模型的效果并不好。"
   ]
  },
  {
   "cell_type": "code",
   "execution_count": 14,
   "metadata": {},
   "outputs": [
    {
     "name": "stdout",
     "output_type": "stream",
     "text": [
      "mean squre error:\n",
      "linear regression: 6165.064394276775\n",
      "ridge regression: 6165.071856420479\n",
      "lasso regression: 6207.579559974256\n",
      "R^2 score:\n",
      "linear regression: 0.2763583347786147\n",
      "ridge regression: 0.27635745888863994\n",
      "lasso regression: 0.2713679983709286\n"
     ]
    }
   ],
   "source": [
    "print('mean squre error:')\n",
    "print('linear regression: {}'.format(mse_lr))\n",
    "print('ridge regression: {}'.format(mse_rr))\n",
    "print('lasso regression: {}'.format(mse_las))\n",
    "\n",
    "print('R^2 score:')\n",
    "print('linear regression: {}'.format(r2_lr))\n",
    "print('ridge regression: {}'.format(r2_rr))\n",
    "print('lasso regression: {}'.format(r2_las))"
   ]
  },
  {
   "cell_type": "code",
   "execution_count": 15,
   "metadata": {},
   "outputs": [
    {
     "data": {
      "text/plain": [
       "<matplotlib.legend.Legend at 0x23ebda39ac0>"
      ]
     },
     "execution_count": 15,
     "metadata": {},
     "output_type": "execute_result"
    },
    {
     "data": {
      "image/png": "[encoded data removed]",
      "text/plain": [
       "<Figure size 432x288 with 2 Axes>"
      ]
     },
     "metadata": {
      "needs_background": "light"
     },
     "output_type": "display_data"
    }
   ],
   "source": [
    "# plot to compare\n",
    "fig, ax = plt.subplots(2)\n",
    "ax[0].scatter([1, 2, 3], [r2_lr, r2_rr, r2_las], label='$R^2$ score')\n",
    "ax[0].legend(loc='best')\n",
    "ax[1].scatter([1, 2, 3], [mse_lr, mse_rr, mse_las], label='mean squared error')\n",
    "ax[1].legend(loc='best')"
   ]
  },
  {
   "cell_type": "markdown",
   "metadata": {},
   "source": [
    "使用支持向量机来做回归分析，以及用集成模型的Adaboost和随机森林"
   ]
  },
  {
   "cell_type": "code",
   "execution_count": 16,
   "metadata": {},
   "outputs": [],
   "source": [
    "from sklearn.svm import SVR\n",
    "from sklearn.ensemble import AdaBoostRegressor\n",
    "from sklearn.ensemble import RandomForestRegressor"
   ]
  },
  {
   "cell_type": "code",
   "execution_count": 17,
   "metadata": {},
   "outputs": [],
   "source": [
    "# SVM 支持向量机\n",
    "svm = SVR(kernel='rbf')\n",
    "svm.fit(X_train, y_train)\n",
    "y_pred_svm = svm.predict(X_test)\n",
    "r2_svm = svm.score(X_test, y_test)\n",
    "mse_svm = mean_squared_error(y_true=y_test, y_pred=y_pred_svm)\n",
    "\n",
    "# Adaboost\n",
    "AdaBoost = AdaBoostRegressor(n_estimators=100)\n",
    "AdaBoost.fit(X_train, y_train)\n",
    "y_pred_ada = AdaBoost.predict(X_test)\n",
    "r2_AdaBoost = AdaBoost.score(X_test, y_test)\n",
    "mse_AdaBoost = mean_squared_error(y_true=y_test, y_pred=y_pred_ada)\n",
    "\n",
    "# Random Forest 随机森林\n",
    "RandomForest = RandomForestRegressor(n_estimators=20)\n",
    "RandomForest.fit(X_train,y_train)\n",
    "y_pred_for = AdaBoost.predict(X_test)\n",
    "r2_RandomForest = RandomForest.score(X_test,y_test)\n",
    "mse_RandomForest = mean_squared_error(y_true=y_test, y_pred=y_pred_for)"
   ]
  },
  {
   "cell_type": "markdown",
   "metadata": {},
   "source": [
    "打印出三种模型的各种分数"
   ]
  },
  {
   "cell_type": "code",
   "execution_count": 18,
   "metadata": {},
   "outputs": [
    {
     "name": "stdout",
     "output_type": "stream",
     "text": [
      "mean squre error:\n",
      "SVM: 8630.098994486236\n",
      "AdaBoost: 7457.3592417036225\n",
      "RandomForest: 7457.3592417036225\n",
      "R^2 score:\n",
      "SVM: -0.012981991427850614\n",
      "AdaBoost: 0.12467161497450086\n",
      "RandomForest: 0.30710290266224183\n"
     ]
    }
   ],
   "source": [
    "print('mean squre error:')\n",
    "print('SVM: {}'.format(mse_svm))\n",
    "print('AdaBoost: {}'.format(mse_AdaBoost))\n",
    "print('RandomForest: {}'.format(mse_RandomForest))\n",
    "\n",
    "print('R^2 score:')\n",
    "print('SVM: {}'.format(r2_svm))\n",
    "print('AdaBoost: {}'.format(r2_AdaBoost))\n",
    "print('RandomForest: {}'.format(r2_RandomForest))"
   ]
  },
  {
   "cell_type": "code",
   "execution_count": null,
   "metadata": {},
   "outputs": [],
   "source": [
    "# plot to compare\n",
    "fig, ax = plt.subplots(2)\n",
    "ax[0].scatter([1, 2, 3], [r2_lr, r2_rr, r2_las], label='$R^2$ score')\n",
    "ax[0].legend(loc='best')\n",
    "ax[1].scatter([1, 2, 3], [mse_lr, mse_rr, mse_las], label='mean squared error')\n",
    "ax[1].legend(loc='best')"
   ]
  },
  {
   "cell_type": "markdown",
   "metadata": {},
   "source": [
    "用mlxtend包"
   ]
  },
  {
   "cell_type": "code",
   "execution_count": 19,
   "metadata": {},
   "outputs": [],
   "source": [
    "from mlxtend.regressor import StackingRegressor"
   ]
  },
  {
   "cell_type": "code",
   "execution_count": 20,
   "metadata": {},
   "outputs": [
    {
     "name": "stdout",
     "output_type": "stream",
     "text": [
      "base model\n",
      "mean squre error: 6165.064394276775\n",
      "mean squre error: 12167.586659585688\n",
      "mean squre error: 7624.542696989568\n",
      "mean squre error: 6165.071856420479\n",
      "stacking model\n",
      "mean squre error: 5525.963085650848\n"
     ]
    },
    {
     "data": {
      "image/png": "[encoded data removed]",
      "text/plain": [
       "<Figure size 432x288 with 1 Axes>"
      ]
     },
     "metadata": {
      "needs_background": "light"
     },
     "output_type": "display_data"
    }
   ],
   "source": [
    "# 初始化基模型\n",
    "lr = LinearRegression()\n",
    "svr_lin = SVR(kernel='linear', gamma='auto')\n",
    "svr_rbf = SVR(kernel='rbf', gamma='auto')\n",
    "ridge = Ridge(random_state=2019)\n",
    "models = [lr, svr_lin, svr_rbf, ridge]\n",
    "\n",
    "print('base model')\n",
    "for model in models:\n",
    "    model.fit(X_train, y_train)\n",
    "    pred = model.predict(X_test)\n",
    "    mse = mean_squared_error(y_test, pred)\n",
    "    print(\"mean squre error: {}\".format(mse))\n",
    "sclf = StackingRegressor(regressors=models, meta_regressor=ridge)\n",
    "# 训练回归器\n",
    "sclf.fit(X_train, y_train)\n",
    "y_pred = sclf.predict(X_test)\n",
    "\n",
    "print('stacking model')\n",
    "print(\"mean squre error: {}\".format(mean_squared_error(y_test, y_pred)))\n",
    "plt.scatter(np.arange(len(y_pred)), y_pred, c='red')\n",
    "plt.plot(np.arange(len(y_test)), y_test)\n",
    "plt.show()"
   ]
  },
  {
   "cell_type": "code",
   "execution_count": 21,
   "metadata": {},
   "outputs": [
    {
     "data": {
      "text/plain": [
       "0.35137463722771267"
      ]
     },
     "execution_count": 21,
     "metadata": {},
     "output_type": "execute_result"
    }
   ],
   "source": [
    "sclf.score(X_test,y_test)"
   ]
  },
  {
   "cell_type": "markdown",
   "metadata": {},
   "source": [
    "## 四、数据可视化"
   ]
  },
  {
   "cell_type": "code",
   "execution_count": null,
   "metadata": {},
   "outputs": [],
   "source": [
    "# data visulization\n",
    "plt.plot(no_nan_df['season'], no_nan_df['pm2.5'], label='PM2.5')"
   ]
  },
  {
   "cell_type": "code",
   "execution_count": null,
   "metadata": {},
   "outputs": [],
   "source": [
    "\n",
    "b1 = sns.boxplot(x='grade',y='pm2.5',data=no_nan_df,hue='year')\n",
    "b2 = sns.boxplot(x='grade',y='pm2.5',data=no_nan_df,hue='season')"
   ]
  }
 ],
 "metadata": {
  "interpreter": {
   "hash": "5179d32cf6ec497baf3f8a3ef987cc77c5d2dc691fdde20a56316522f61a7323"
  },
  "kernelspec": {
   "display_name": "Python 3.8.8 ('base')",
   "language": "python",
   "name": "python3"
  },
  "language_info": {
   "codemirror_mode": {
    "name": "ipython",
    "version": 3
   },
   "file_extension": ".py",
   "mimetype": "text/x-python",
   "name": "python",
   "nbconvert_exporter": "python",
   "pygments_lexer": "ipython3",
   "version": "3.8.8"
  },
  "orig_nbformat": 4
 },
 "nbformat": 4,
 "nbformat_minor": 2
}
